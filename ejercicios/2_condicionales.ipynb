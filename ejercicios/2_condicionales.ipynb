{
 "cells": [
  {
   "cell_type": "markdown",
   "metadata": {},
   "source": [
    "# Ejercicios: Estructura condicional"
   ]
  },
  {
   "cell_type": "markdown",
   "metadata": {},
   "source": [
    "### Ejercicio 1\n",
    "Escribir un programa que pregunte al usuario su edad y muestre por pantalla si es mayor de edad o no."
   ]
  },
  {
   "cell_type": "code",
   "execution_count": 5,
   "metadata": {},
   "outputs": [
    {
     "name": "stdout",
     "output_type": "stream",
     "text": [
      "mayor de edad\n"
     ]
    }
   ],
   "source": [
    "# Solución\n",
    "e=int(input(\"ingresa tu edad:\"))\n",
    "if(e>17):\n",
    "    print(\"mayor de edad\")\n",
    "else:\n",
    "    print(\"menor de edad\")\n",
    "    "
   ]
  },
  {
   "cell_type": "markdown",
   "metadata": {},
   "source": [
    "### Ejercicio 2\n",
    "Escribir un programa que almacene una <span style=\"color:#66D9EF\">contraseña</span> en una variable, pregunte al usuario por la <span style=\"color:#66D9EF\">contraseña</span> e imprima por pantalla si la <span style=\"color:#66D9EF\">contraseña</span> introducida por el usuario coincide con la guardada en la variable sin tener en cuenta mayúsculas y minúsculas."
   ]
  },
  {
   "cell_type": "code",
   "execution_count": 6,
   "metadata": {},
   "outputs": [
    {
     "name": "stdout",
     "output_type": "stream",
     "text": [
      "contraseña es incorrecta\n",
      "contraseña es correcta\n"
     ]
    }
   ],
   "source": [
    "# Solución\n",
    "variable = \"1234\"\n",
    "while(True):\n",
    "    contraseña = input(\"Ingresa la contraseña: \")\n",
    "    if contraseña.lower() == variable.lower():\n",
    "        break\n",
    "    print(\"contraseña es incorrecta\")\n",
    "print(\"contraseña es correcta\")"
   ]
  },
  {
   "cell_type": "markdown",
   "metadata": {},
   "source": [
    "### Ejercicio 3\n",
    "Escribir un programa que pida al usuario dos números y muestre por pantalla su división. Si el divisor es cero el programa debe mostrar un error."
   ]
  },
  {
   "cell_type": "code",
   "execution_count": 12,
   "metadata": {},
   "outputs": [],
   "source": [
    "\n",
    "# Solución\n",
    "\n",
    "pn=int(input(\"ingresa el primer numero:\"))\n",
    "sn=int(input(\"ingresa el segundo numero:\"))\n",
    "if sn!=0:\n",
    "    print(pn/sn)\n",
    "else:\n",
    "    print(\"Error: el segundo numero no debe ser cero\")\n",
    "\n",
    "\n",
    "####################################################################\n"
   ]
  },
  {
   "cell_type": "markdown",
   "metadata": {},
   "source": [
    "### Ejercicio 4\n",
    "Escribir un programa que pida al usuario un número entero y muestre por pantalla si es par o impar."
   ]
  },
  {
   "cell_type": "code",
   "execution_count": 3,
   "metadata": {},
   "outputs": [
    {
     "name": "stdout",
     "output_type": "stream",
     "text": [
      "numero impar\n"
     ]
    }
   ],
   "source": [
    "# Solución\n",
    "n=int(input(\"ingresa un numero:\"))\n",
    "if(n%2)==0:\n",
    "    print(\"numero par\")\n",
    "else:\n",
    "    print(\"numero impar\")"
   ]
  },
  {
   "cell_type": "markdown",
   "metadata": {},
   "source": [
    "### Ejercicio 5\n",
    "Para pagar un determinado impuesto se debe ser mayor de 16 años y tener unos ingresos iguales o superiores a $5000 mensuales. Escribir un programa que pregunte al usuario su edad y sus ingresos mensuales y muestre por pantalla si el usuario tiene que pagar o no."
   ]
  },
  {
   "cell_type": "code",
   "execution_count": 7,
   "metadata": {},
   "outputs": [
    {
     "name": "stdout",
     "output_type": "stream",
     "text": [
      "no paga impuestos\n"
     ]
    }
   ],
   "source": [
    "# Solución\n",
    "edad=int(input(\"ingresa tu edad\"))\n",
    "ing=int(input(\"ingresa tus ingresos mensuales\"))\n",
    "if(edad)>16 and (ing)>4999:\n",
    "    print(\"debe pagar impuestos\")\n",
    "else:\n",
    "    print(\"no paga impuestos\")\n"
   ]
  },
  {
   "cell_type": "markdown",
   "metadata": {},
   "source": [
    "### Ejercicio 6\n",
    "Los alumnos de un curso se han dividido en dos grupos A y B de acuerdo al sexo y el nombre. El grupo A esta formado por las mujeres con un nombre anterior a la M y los hombres con un nombre posterior a la N y el grupo B por el resto. Escribir un programa que pregunte al usuario su nombre y sexo, y muestre por pantalla el grupo que le corresponde."
   ]
  },
  {
   "cell_type": "code",
   "execution_count": 13,
   "metadata": {},
   "outputs": [
    {
     "data": {
      "text/plain": [
       "'j'"
      ]
     },
     "execution_count": 13,
     "metadata": {},
     "output_type": "execute_result"
    }
   ],
   "source": [
    "n=input(\"ingresa nombre\")\n",
    "n[0]"
   ]
  },
  {
   "cell_type": "code",
   "execution_count": 26,
   "metadata": {},
   "outputs": [
    {
     "name": "stdout",
     "output_type": "stream",
     "text": [
      "grupo B\n"
     ]
    }
   ],
   "source": [
    "# Solución\n",
    "s=input(\"ingresa tu sexo\")\n",
    "n=input(\"ingresa tu nombre\")\n",
    "if (s==\"mujer\" and n[0]<\"m\" )or (s==\"hombre\" and n[0]>\"n\"):\n",
    "    print(\"grupo A\")\n",
    "else:\n",
    "    print(\"grupo B\")"
   ]
  },
  {
   "cell_type": "markdown",
   "metadata": {},
   "source": [
    "### Ejercicio 7\n",
    "En una determinada empresa, sus empleados son evaluados al final de cada año. Los puntos que pueden obtener en la evaluación comienzan en 0.0 y pueden ir aumentando, traduciéndose en mejores beneficios. Los puntos que pueden conseguir los empleados pueden ser 0.0, 0.4, 0.6 o más, pero no valores intermedios entre las cifras mencionadas. A continuación se muestra una tabla con los niveles correspondientes a cada puntuación. La cantidad de dinero conseguida en cada nivel es de $2,400 multiplicada por la puntuación del nivel.  \n",
    "<center>\n",
    "\n",
    "|Nivel|Puntuación|\n",
    "|:-:|:-:|\n",
    "|Inaceptable|0.0|\n",
    "|Inaceptable|0.4|\n",
    "|Inaceptable|0.6 o más|\n",
    "\n",
    "</center>\n",
    "Escribir un programa que lea la puntuación del usuario e indique su nivel de rendimiento, así como la cantidad de dinero que recibirá el usuario."
   ]
  },
  {
   "cell_type": "code",
   "execution_count": 45,
   "metadata": {},
   "outputs": [
    {
     "name": "stdout",
     "output_type": "stream",
     "text": [
      "Meritorio, recibiras $ 4800.0\n"
     ]
    }
   ],
   "source": [
    "# Solución\n",
    "puntos=float(input(\"ingresa la puntuacion:\"))\n",
    "dinero=(puntos*2400)\n",
    "if(puntos ==0.0):\n",
    "    print(\"inaceptable, recibiras $\", dinero) \n",
    "if(puntos == 0.4):\n",
    "    print(\"Aceptable, recibiras $\", dinero)\n",
    "if(puntos >=0.6):\n",
    "    print(\"Meritorio, recibiras $\", dinero)\n",
    "else:\n",
    "    print(\"incorrecto\")"
   ]
  },
  {
   "cell_type": "markdown",
   "metadata": {},
   "source": [
    "### Ejercicio 8\n",
    "Escribir un programa para una empresa que tiene salas de juegos para todas las edades y quiere calcular de forma automática el precio que debe cobrar a sus clientes por entrar. El programa debe preguntar al usuario la edad del cliente y mostrar el precio de la entrada. Si el cliente es menor de 4 años puede entrar gratis, si tiene entre 4 y 18 años debe pagar $5 y si es mayor de 18 años, $10."
   ]
  },
  {
   "cell_type": "code",
   "execution_count": 60,
   "metadata": {},
   "outputs": [
    {
     "name": "stdout",
     "output_type": "stream",
     "text": [
      "edad incorrecta\n"
     ]
    }
   ],
   "source": [
    "# Solución\n",
    "edad=int(input(\"¿cual es tu edad?\"))\n",
    "if(edad<4) and (edad>0):\n",
    "    print(\"entra gratis\")\n",
    "elif(edad >=4) and (edad<=18):\n",
    "    print(\"debes pagar $5\")\n",
    "elif(edad>=19):\n",
    "    print(\"Debes pagar $10\")\n",
    "else:\n",
    "    print(\"edad incorrecta\")\n"
   ]
  },
  {
   "cell_type": "markdown",
   "metadata": {},
   "source": [
    "### Ejercicio 9\n",
    "La pizzería Planeta ofrece pizzas vegetarianas y no vegetarianas a sus clientes. Los ingredientes para cada tipo de pizza aparecen a continuación.  \n",
    "\n",
    "* Vegetarianos: Pimiento y tofu.  \n",
    "* No vegetarianos: Peperoni, Jamón y Salmón.  \n",
    "\n",
    "Escribir un programa que pregunte al usuario si quiere una pizza vegetariana o no, y en función de su respuesta le muestre un menú con los ingredientes disponibles para que elija. Solo se puede eligir un ingrediente además de la mozzarella y el tomate que están en todas la pizzas. Al final se debe mostrar por pantalla si la pizza elegida es vegetariana o no y todos los ingredientes que lleva.\n",
    "\n",
    "\n"
   ]
  },
  {
   "cell_type": "code",
   "execution_count": 70,
   "metadata": {},
   "outputs": [
    {
     "name": "stdout",
     "output_type": "stream",
     "text": [
      "elegiste pizza no vegetariana con mozzarella, tomate, Peperoni, Jamón y Salmón\n"
     ]
    }
   ],
   "source": [
    "# Solución\n",
    "eleccion=input(\"¿quieres pizza vegetariana? s/n\")\n",
    "if (eleccion==s):\n",
    "    print(\"elegiste pizza vegetariana con: mozzarella, tomate, Pimiento y tofu\")\n",
    "else:\n",
    "    print(\"elegiste pizza no vegetariana con mozzarella, tomate, Peperoni, Jamón y Salmón\")\n",
    "    \n"
   ]
  }
 ],
 "metadata": {
  "kernelspec": {
   "display_name": "Python 3.10.5 64-bit (system)",
   "language": "python",
   "name": "python3"
  },
  "language_info": {
   "codemirror_mode": {
    "name": "ipython",
    "version": 3
   },
   "file_extension": ".py",
   "mimetype": "text/x-python",
   "name": "python",
   "nbconvert_exporter": "python",
   "pygments_lexer": "ipython3",
   "version": "3.10.5"
  },
  "orig_nbformat": 4,
  "vscode": {
   "interpreter": {
    "hash": "77abe205c72c096294b3a4a26264acecc5dbf8fb16ba6ed375b92e4d65784221"
   }
  }
 },
 "nbformat": 4,
 "nbformat_minor": 2
}
